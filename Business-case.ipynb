{
 "cells": [
  {
   "cell_type": "markdown",
   "id": "055247a1-0647-4d2e-996d-4ead012d4d37",
   "metadata": {},
   "source": [
    "# Where to put a 99-Ranch or H-Mart in San Antonio?"
   ]
  },
  {
   "cell_type": "markdown",
   "id": "1c37dcdb-e2ad-4144-a5b7-bf5c8512d2c4",
   "metadata": {},
   "source": [
    "by Andrew Metzger"
   ]
  },
  {
   "cell_type": "markdown",
   "id": "9d68b431-e82d-4a7f-bc84-0d73789cd49f",
   "metadata": {},
   "source": [
    "San Antonio, despite being the 7th most populous city in the country and the 2nd most populous city in the state of Texas, has no \"China town\". According to the U.S. Census, San Antonio also has a similar Asian population to Dallas (45k vs 50k). San Antonio does, however, have some smaller grocery stores scattered about the city but no mainstream Asian stores such as H-Mart or 99-Ranch. A medium sized Asia Super Market opened on the East Side of town, but the timing was prior to the COVID pandemic. Most seekers of East Asian cuisine and ingredients have to drive hours to Austin or Houston, TX. My goal for this project is to find an ideal part of San Antonio to open/build a large Asian market in hopes to nucleate a \"China town\" and increase the cultural diversity of the city. This will probably involve comparing Zip codes' Asian populations and their number of Asian restaurants."
   ]
  },
  {
   "cell_type": "code",
   "execution_count": null,
   "id": "6d496d12-0949-4423-9c1e-ed6d9264f2a5",
   "metadata": {},
   "outputs": [],
   "source": []
  }
 ],
 "metadata": {
  "kernelspec": {
   "display_name": "Python 3",
   "language": "python",
   "name": "python3"
  },
  "language_info": {
   "codemirror_mode": {
    "name": "ipython",
    "version": 3
   },
   "file_extension": ".py",
   "mimetype": "text/x-python",
   "name": "python",
   "nbconvert_exporter": "python",
   "pygments_lexer": "ipython3",
   "version": "3.9.6"
  }
 },
 "nbformat": 4,
 "nbformat_minor": 5
}
