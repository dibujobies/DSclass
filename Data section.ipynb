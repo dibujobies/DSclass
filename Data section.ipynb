{
 "cells": [
  {
   "cell_type": "markdown",
   "id": "79dfb44a-388b-44c7-8b28-62668f001f63",
   "metadata": {},
   "source": [
    "# Data Section: Where to put a large Asian supermarket in San Antonio?"
   ]
  },
  {
   "cell_type": "markdown",
   "id": "950e2f9a-bf42-4202-bfb3-ddc91d5f8088",
   "metadata": {},
   "source": [
    "I will be using U.S. Census Data for to obtain San Antonio Zip code geospatial coordinates and their estimated number of Asian residents. I will also be using foursquare to estimate how many Asian restaurants are in each San Antonio Zip Code. I may repeat the same clustering in the previous assignment (but with more generalized venues) just to get a broader idea of San Antonio."
   ]
  },
  {
   "cell_type": "code",
   "execution_count": null,
   "id": "a0e297ff-bf43-4ce7-a6a1-022aef03e167",
   "metadata": {},
   "outputs": [],
   "source": []
  }
 ],
 "metadata": {
  "kernelspec": {
   "display_name": "Python 3",
   "language": "python",
   "name": "python3"
  },
  "language_info": {
   "codemirror_mode": {
    "name": "ipython",
    "version": 3
   },
   "file_extension": ".py",
   "mimetype": "text/x-python",
   "name": "python",
   "nbconvert_exporter": "python",
   "pygments_lexer": "ipython3",
   "version": "3.9.6"
  }
 },
 "nbformat": 4,
 "nbformat_minor": 5
}
